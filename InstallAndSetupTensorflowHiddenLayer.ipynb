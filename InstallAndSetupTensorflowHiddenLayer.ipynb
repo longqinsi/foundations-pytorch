{
 "cells": [
  {
   "cell_type": "markdown",
   "source": [
    "Hiddenlayer is an open source, lightweight visualization library that you can use with PyTorch,\n",
    "TensorFlow and other deep learning frameworks in order to view the hidden layers of your model."
   ],
   "metadata": {
    "collapsed": false
   }
  },
  {
   "cell_type": "code",
   "execution_count": 1,
   "metadata": {
    "collapsed": true,
    "ExecuteTime": {
     "end_time": "2023-05-15T13:26:25.831095800Z",
     "start_time": "2023-05-15T13:26:23.459742400Z"
    }
   },
   "outputs": [
    {
     "name": "stdout",
     "output_type": "stream",
     "text": [
      "Looking in indexes: https://pypi.tuna.tsinghua.edu.cn/simple\n",
      "Collecting hiddenlayer\n",
      "  Downloading https://pypi.tuna.tsinghua.edu.cn/packages/64/f8/ea51d02695a4dc397f3b2487fae462cd3f2ce707c54250e0fdfaec2ff92e/hiddenlayer-0.3-py3-none-any.whl (19 kB)\n",
      "Installing collected packages: hiddenlayer\n",
      "Successfully installed hiddenlayer-0.3\n"
     ]
    }
   ],
   "source": [
    "!pip install hiddenlayer"
   ]
  },
  {
   "cell_type": "code",
   "execution_count": null,
   "outputs": [],
   "source": [],
   "metadata": {
    "collapsed": false
   }
  }
 ],
 "metadata": {
  "kernelspec": {
   "display_name": "Python 3",
   "language": "python",
   "name": "python3"
  },
  "language_info": {
   "codemirror_mode": {
    "name": "ipython",
    "version": 2
   },
   "file_extension": ".py",
   "mimetype": "text/x-python",
   "name": "python",
   "nbconvert_exporter": "python",
   "pygments_lexer": "ipython2",
   "version": "2.7.6"
  }
 },
 "nbformat": 4,
 "nbformat_minor": 0
}
