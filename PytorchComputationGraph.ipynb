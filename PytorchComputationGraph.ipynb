{
 "cells": [
  {
   "cell_type": "code",
   "execution_count": 2,
   "metadata": {
    "collapsed": true,
    "ExecuteTime": {
     "end_time": "2023-05-15T14:33:21.305621500Z",
     "start_time": "2023-05-15T14:33:21.253615500Z"
    }
   },
   "outputs": [],
   "source": [
    "import numpy as np\n",
    "import torch\n",
    "import torch.nn as nn"
   ]
  },
  {
   "cell_type": "code",
   "execution_count": 3,
   "outputs": [],
   "source": [
    "W = torch.randn(6)\n",
    "\n",
    "x = torch.tensor([10.0, 10.0, 10.0, 10.0, 10.0, 10.0])\n",
    "\n",
    "b = torch.tensor(3)"
   ],
   "metadata": {
    "collapsed": false,
    "ExecuteTime": {
     "end_time": "2023-05-15T14:33:21.306771600Z",
     "start_time": "2023-05-15T14:33:21.259265700Z"
    }
   }
  },
  {
   "cell_type": "code",
   "execution_count": 4,
   "outputs": [
    {
     "data": {
      "text/plain": "tensor([-0.0970,  0.1345, -0.0530,  0.2260, -1.0445, -1.0370])"
     },
     "execution_count": 4,
     "metadata": {},
     "output_type": "execute_result"
    }
   ],
   "source": [
    "W"
   ],
   "metadata": {
    "collapsed": false,
    "ExecuteTime": {
     "end_time": "2023-05-15T14:33:21.396558900Z",
     "start_time": "2023-05-15T14:33:21.270429100Z"
    }
   }
  },
  {
   "cell_type": "code",
   "execution_count": 5,
   "outputs": [],
   "source": [
    "y = W*x+b"
   ],
   "metadata": {
    "collapsed": false,
    "ExecuteTime": {
     "end_time": "2023-05-15T14:33:21.396558900Z",
     "start_time": "2023-05-15T14:33:21.284441100Z"
    }
   }
  },
  {
   "cell_type": "code",
   "execution_count": 6,
   "outputs": [
    {
     "data": {
      "text/plain": "tensor([ 2.0298,  4.3451,  2.4698,  5.2605, -7.4452, -7.3702])"
     },
     "execution_count": 6,
     "metadata": {},
     "output_type": "execute_result"
    }
   ],
   "source": [
    "y"
   ],
   "metadata": {
    "collapsed": false,
    "ExecuteTime": {
     "end_time": "2023-05-15T14:33:21.405562800Z",
     "start_time": "2023-05-15T14:33:21.291352100Z"
    }
   }
  },
  {
   "cell_type": "code",
   "execution_count": 7,
   "outputs": [
    {
     "data": {
      "text/plain": "tensor([ -0.9702,   1.3451,  -0.5302,   2.2605, -10.4452, -10.3702])"
     },
     "execution_count": 7,
     "metadata": {},
     "output_type": "execute_result"
    }
   ],
   "source": [
    "W*x"
   ],
   "metadata": {
    "collapsed": false,
    "ExecuteTime": {
     "end_time": "2023-05-15T14:33:21.406561500Z",
     "start_time": "2023-05-15T14:33:21.306771600Z"
    }
   }
  },
  {
   "cell_type": "code",
   "execution_count": 8,
   "outputs": [
    {
     "data": {
      "text/plain": "tensor(3)"
     },
     "execution_count": 8,
     "metadata": {},
     "output_type": "execute_result"
    }
   ],
   "source": [
    "b"
   ],
   "metadata": {
    "collapsed": false,
    "ExecuteTime": {
     "end_time": "2023-05-15T14:33:21.407563900Z",
     "start_time": "2023-05-15T14:33:21.307296600Z"
    }
   }
  },
  {
   "cell_type": "code",
   "execution_count": 9,
   "outputs": [],
   "source": [
    "W1 = torch.tensor(6)\n",
    "W2 = torch.tensor(6)\n",
    "W3 = torch.tensor(6)\n",
    "\n",
    "x1 = torch.tensor([2, 2, 2])\n",
    "x2 = torch.tensor([3, 3, 3])\n",
    "x3 = torch.tensor([4, 4, 4])\n",
    "\n",
    "b = torch.tensor(10)"
   ],
   "metadata": {
    "collapsed": false,
    "ExecuteTime": {
     "end_time": "2023-05-15T14:33:21.407563900Z",
     "start_time": "2023-05-15T14:33:21.313696800Z"
    }
   }
  },
  {
   "cell_type": "code",
   "execution_count": 10,
   "outputs": [
    {
     "data": {
      "text/plain": "(tensor(6), tensor(6), tensor(6))"
     },
     "execution_count": 10,
     "metadata": {},
     "output_type": "execute_result"
    }
   ],
   "source": [
    "W1, W2, W3"
   ],
   "metadata": {
    "collapsed": false,
    "ExecuteTime": {
     "end_time": "2023-05-15T14:33:21.407563900Z",
     "start_time": "2023-05-15T14:33:21.317703Z"
    }
   }
  },
  {
   "cell_type": "code",
   "execution_count": 11,
   "outputs": [
    {
     "data": {
      "text/plain": "tensor([30, 30, 30])"
     },
     "execution_count": 11,
     "metadata": {},
     "output_type": "execute_result"
    }
   ],
   "source": [
    "intermediate_value = W1 * x1 + W2 * x2\n",
    "intermediate_value"
   ],
   "metadata": {
    "collapsed": false,
    "ExecuteTime": {
     "end_time": "2023-05-15T14:33:21.408563Z",
     "start_time": "2023-05-15T14:33:21.327300600Z"
    }
   }
  },
  {
   "cell_type": "code",
   "execution_count": 12,
   "outputs": [
    {
     "data": {
      "text/plain": "tensor([64, 64, 64])"
     },
     "execution_count": 12,
     "metadata": {},
     "output_type": "execute_result"
    }
   ],
   "source": [
    "final_value = W1*x1 + W2*x2 + W3*x3 + b\n",
    "final_value"
   ],
   "metadata": {
    "collapsed": false,
    "ExecuteTime": {
     "end_time": "2023-05-15T14:33:21.408563Z",
     "start_time": "2023-05-15T14:33:21.334109200Z"
    }
   }
  },
  {
   "cell_type": "code",
   "execution_count": 13,
   "outputs": [],
   "source": [
    "import hiddenlayer as hl"
   ],
   "metadata": {
    "collapsed": false,
    "ExecuteTime": {
     "end_time": "2023-05-15T14:33:21.408563Z",
     "start_time": "2023-05-15T14:33:21.341426200Z"
    }
   }
  },
  {
   "cell_type": "code",
   "execution_count": 14,
   "outputs": [],
   "source": [
    "x_train = np.array ([[1.7], [2.5], [5.5], [7.9], [8.8],\n",
    "                     [2.4],[2.4], [8.89], [5], [4.4]],\n",
    "                    dtype = np.float32)\n",
    "\n",
    "y_train = np.array ([[1.9], [2.68], [4.22], [8.19], [9.69],\n",
    "                     [3.4],[2.6], [8.8], [5.6], [4.7]],\n",
    "                    dtype = np.float32)"
   ],
   "metadata": {
    "collapsed": false,
    "ExecuteTime": {
     "end_time": "2023-05-15T14:33:21.409562900Z",
     "start_time": "2023-05-15T14:33:21.350698600Z"
    }
   }
  },
  {
   "cell_type": "code",
   "execution_count": 15,
   "outputs": [
    {
     "data": {
      "text/plain": "torch.Size([10, 1])"
     },
     "execution_count": 15,
     "metadata": {},
     "output_type": "execute_result"
    }
   ],
   "source": [
    "X_train = torch.tensor(x_train)\n",
    "Y_train = torch.tensor(y_train)\n",
    "\n",
    "X_train.shape"
   ],
   "metadata": {
    "collapsed": false,
    "ExecuteTime": {
     "end_time": "2023-05-15T14:33:21.409562900Z",
     "start_time": "2023-05-15T14:33:21.356096Z"
    }
   }
  },
  {
   "cell_type": "code",
   "execution_count": 16,
   "outputs": [],
   "source": [
    "inp = 1\n",
    "out = 1\n",
    "\n",
    "hid = 100"
   ],
   "metadata": {
    "collapsed": false,
    "ExecuteTime": {
     "end_time": "2023-05-15T14:33:21.410562800Z",
     "start_time": "2023-05-15T14:33:21.362526300Z"
    }
   }
  },
  {
   "cell_type": "code",
   "execution_count": 17,
   "outputs": [],
   "source": [
    "model1 = torch.nn.Sequential(torch.nn.Linear(inp, hid),\n",
    "                             torch.nn.Linear(hid, out))"
   ],
   "metadata": {
    "collapsed": false,
    "ExecuteTime": {
     "end_time": "2023-05-15T14:33:21.410562800Z",
     "start_time": "2023-05-15T14:33:21.368432Z"
    }
   }
  },
  {
   "cell_type": "code",
   "execution_count": 20,
   "outputs": [
    {
     "name": "stdout",
     "output_type": "stream",
     "text": [
      "================ Diagnostic Run torch.onnx.export version 2.0.1 ================\n",
      "verbose: False, log level: Level.ERROR\n",
      "======================= 0 NONE 0 NOTE 0 WARNING 0 ERROR ========================\n",
      "\n"
     ]
    }
   ],
   "source": [
    "torch.onnx.export(model1, X_train, \"model.onnx\", input_names=[\"input\"], output_names=[\"output\"])"
   ],
   "metadata": {
    "collapsed": false,
    "ExecuteTime": {
     "end_time": "2023-05-15T14:54:59.110390200Z",
     "start_time": "2023-05-15T14:54:59.017299900Z"
    }
   }
  },
  {
   "cell_type": "code",
   "execution_count": null,
   "outputs": [],
   "source": [
    "from torch.utils.tensorboard import SummaryWriter\n"
   ],
   "metadata": {
    "collapsed": false
   }
  }
 ],
 "metadata": {
  "kernelspec": {
   "display_name": "Python 3",
   "language": "python",
   "name": "python3"
  },
  "language_info": {
   "codemirror_mode": {
    "name": "ipython",
    "version": 2
   },
   "file_extension": ".py",
   "mimetype": "text/x-python",
   "name": "python",
   "nbconvert_exporter": "python",
   "pygments_lexer": "ipython2",
   "version": "2.7.6"
  }
 },
 "nbformat": 4,
 "nbformat_minor": 0
}
